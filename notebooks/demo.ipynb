{
 "cells": [
  {
   "cell_type": "markdown",
   "id": "ee471945",
   "metadata": {},
   "source": [
    "## setup"
   ]
  },
  {
   "cell_type": "code",
   "execution_count": 41,
   "id": "54ff1a61",
   "metadata": {},
   "outputs": [],
   "source": [
    "import os\n",
    "from dotenv import load_dotenv\n",
    "from langchain_groq import ChatGroq\n",
    "from langgraph.graph import StateGraph, END\n",
    "from langchain.schema import SystemMessage, HumanMessage\n",
    "\n",
    "from typing import TypedDict, List\n",
    "import pandas as pd\n",
    "from pydantic import BaseModel, Field\n",
    "\n",
    "\n",
    "load_dotenv()\n",
    "GROQ_API_KEY = os.getenv(\"GROQ_API_KEY\")\n",
    "\n",
    "if not GROQ_API_KEY:\n",
    "    raise ValueError(\"Missing GROQ_API_KEY in .env\")\n"
   ]
  },
  {
   "cell_type": "markdown",
   "id": "67fb8439",
   "metadata": {},
   "source": [
    "## AI PROMPT"
   ]
  },
  {
   "cell_type": "code",
   "execution_count": 42,
   "id": "81ef6dc0",
   "metadata": {},
   "outputs": [],
   "source": [
    "\n",
    "# AI Prompt using LangChain PromptTemplate\n",
    "LLM_SYSTEM_PROMPT = \"\"\"\n",
    "Role Definition:\n",
    "You are a an expert Software QA Leader with 10 years experience in saas sase environments.\n",
    "\n",
    "QA Instructions:\n",
    "Ensure all field content is precise, actionable, and professional.\n",
    "Follow the schema exactly: test_case_id, test_title, description, preconditions, test_steps, test_data, expected_result, comments.\n",
    "Do not add extra fields or text outside the schema.\n",
    "\n",
    "\"\"\"\n"
   ]
  },
  {
   "cell_type": "markdown",
   "id": "e6a748bd",
   "metadata": {},
   "source": [
    "## Setup test case and test plan structure"
   ]
  },
  {
   "cell_type": "code",
   "execution_count": 43,
   "id": "9a41825b",
   "metadata": {},
   "outputs": [],
   "source": [
    "class TestCase(BaseModel):\n",
    "    test_case_id: int = Field(..., description=\"Unique identifier for the test case.\")\n",
    "    test_title: str = Field(..., description=\"Title of the test case.\")\n",
    "    description: str = Field(..., description=\"Detailed description of what the test case covers.\")\n",
    "    preconditions: str = Field(..., description=\"Any setup required before execution.\")\n",
    "    test_steps: str = Field(..., description=\"Step-by-step execution guide.\")\n",
    "    test_data: str = Field(..., description=\"Input values required for the test.\")\n",
    "    expected_result: str = Field(..., description=\"The anticipated outcome.\")\n",
    "    comments: str = Field(..., description=\"Additional notes or observations.\")\n",
    "\n",
    "class TestPlan(BaseModel):\n",
    "    test_cases: List[TestCase]\n"
   ]
  },
  {
   "cell_type": "markdown",
   "id": "7cdd5e09",
   "metadata": {},
   "source": [
    "## Setup structured llm with Groq"
   ]
  },
  {
   "cell_type": "code",
   "execution_count": 44,
   "id": "1f67cab7",
   "metadata": {},
   "outputs": [],
   "source": [
    "# Wrap LLM with structured output\n",
    "structured_llm = ChatGroq(\n",
    "    model=\"llama-3.1-8b-instant\",\n",
    "    temperature=0,\n",
    "    max_tokens=None,\n",
    "    timeout=None,\n",
    "    max_retries=2,\n",
    "    api_key=GROQ_API_KEY\n",
    ")\n",
    "llm_with_structured_output = structured_llm.with_structured_output(TestPlan)"
   ]
  },
  {
   "cell_type": "markdown",
   "id": "b55cad52",
   "metadata": {},
   "source": [
    "## Set graph state"
   ]
  },
  {
   "cell_type": "code",
   "execution_count": 45,
   "id": "2c92eac7",
   "metadata": {},
   "outputs": [],
   "source": [
    "class TestGenState(TypedDict):\n",
    "    requirement: str\n",
    "    test_plan: List[dict]\n"
   ]
  },
  {
   "cell_type": "markdown",
   "id": "3f6b1cbb",
   "metadata": {},
   "source": [
    "## Define the nodes"
   ]
  },
  {
   "cell_type": "code",
   "execution_count": 46,
   "id": "b8dcfcfb",
   "metadata": {},
   "outputs": [],
   "source": [
    "\n",
    "def parse_requirement(state: TestGenState) -> TestGenState:\n",
    "    \"\"\"\n",
    "    Node: Parse Requirement\n",
    "    Purpose: Prepare the requirement text for the LLM.\n",
    "    Input: state['requirement'] (string)\n",
    "    Output: state['requirement'] (string)\n",
    "    \"\"\"\n",
    "    with open(\"..\\\\data\\\\requirements.txt\", \"r\") as f:\n",
    "        state[\"requirement\"] = f.read()\n",
    "    return state\n",
    "\n",
    "def generate_test_cases(state: TestGenState) -> TestGenState:\n",
    "    \"\"\"Generate structured test cases directly from requirement text.\"\"\"\n",
    "    messages = [\n",
    "    SystemMessage(content=LLM_SYSTEM_PROMPT),\n",
    "    HumanMessage(content=state[\"requirement\"])\n",
    "]\n",
    "    resp = llm_with_structured_output.invoke(messages) \n",
    "    print(resp)\n",
    "    # resp is already a TestPlan object\n",
    "    state[\"test_plan\"] = [tc.dict() for tc in resp.test_cases]\n",
    "    return state\n",
    "\n",
    "\n",
    "def export_tests(state: TestGenState, file_path=\"test_cases.csv\") -> TestGenState:\n",
    "    \"\"\"Node: Export all tests to CSV and display DataFrame.\"\"\"\n",
    "    df = pd.DataFrame(state.get(\"test_plan\", []))\n",
    "    df.to_csv(file_path, index=False)\n",
    "    display(df)\n",
    "    state[\"exported_file\"] = file_path\n",
    "    return state\n",
    "\n"
   ]
  },
  {
   "cell_type": "markdown",
   "id": "7728940f",
   "metadata": {},
   "source": [
    "## setup the graph"
   ]
  },
  {
   "cell_type": "code",
   "execution_count": 47,
   "id": "4a4c085e",
   "metadata": {},
   "outputs": [
    {
     "data": {
      "image/png": "[encoded data removed]",
      "text/plain": [
       "<langgraph.graph.state.CompiledStateGraph object at 0x000001BAC1C29010>"
      ]
     },
     "execution_count": 47,
     "metadata": {},
     "output_type": "execute_result"
    }
   ],
   "source": [
    "workflow = StateGraph(TestGenState)\n",
    "workflow.add_node(\"parse\", parse_requirement)\n",
    "workflow.add_node(\"generate_tests\", generate_test_cases)\n",
    "workflow.add_node(\"export\", export_tests)\n",
    "\n",
    "workflow.set_entry_point(\"parse\")\n",
    "\n",
    "# Normal flow\n",
    "workflow.add_edge(\"parse\", \"generate_tests\")\n",
    "workflow.add_edge(\"generate_tests\", \"export\")\n",
    "\n",
    "\n",
    "workflow.add_edge(\"export\", END)\n",
    "\n",
    "app = workflow.compile()\n",
    "app"
   ]
  },
  {
   "cell_type": "markdown",
   "id": "357e85bb",
   "metadata": {},
   "source": [
    "## Invoke the Graph"
   ]
  },
  {
   "cell_type": "code",
   "execution_count": 48,
   "id": "7e054048",
   "metadata": {},
   "outputs": [
    {
     "name": "stdout",
     "output_type": "stream",
     "text": [
      "test_cases=[TestCase(test_case_id=1, test_title='Copy Sensitive Data from Protected Application', description='Verify that copying sensitive data from a protected application is blocked or logged.', preconditions='Sensitive data is present in the protected application.', test_steps='1. Launch the protected application with sensitive data.\\n2. Attempt to copy the sensitive data.\\n3. Verify that the copy action is blocked or logged.', test_data='Sensitive data (e.g., credit card numbers, PII, source code)', expected_result='Copy action is blocked or logged with user ID, application, timestamp, and data type.', comments='Verify that the copy action is blocked or logged with accurate details.'), TestCase(test_case_id=2, test_title='Paste Sensitive Data into Unauthorized Destination', description='Verify that pasting sensitive data into an unauthorized destination is blocked and generates an alert.', preconditions='Sensitive data is present in the clipboard and an unauthorized destination is open.', test_steps='1. Copy sensitive data from a protected application.\\n2. Open an unauthorized destination (e.g., personal email, external chat app).\\n3. Attempt to paste the sensitive data.\\n4. Verify that the paste action is blocked and generates an alert with user ID, application, timestamp, and data type.', test_data='Sensitive data (e.g., credit card numbers, PII, source code) and unauthorized destination (e.g., personal email, external chat app)', expected_result='Paste action is blocked and generates an alert with accurate details.', comments='Verify that the paste action is blocked and generates an alert with accurate details.'), TestCase(test_case_id=3, test_title='Approved Application Copy/Paste', description='Verify that approved applications allow copy/paste without false positives.', preconditions='Approved application is open with sensitive data.', test_steps='1. Launch an approved application with sensitive data.\\n2. Attempt to copy the sensitive data.\\n3. Verify that the copy action is allowed without false positives.\\n4. Attempt to paste the sensitive data into an approved destination.\\n5. Verify that the paste action is allowed without false positives.', test_data='Approved application (e.g., internal CRM, ticketing system) and sensitive data (e.g., credit card numbers, PII, source code)', expected_result='Copy and paste actions are allowed without false positives.', comments='Verify that approved applications allow copy/paste without false positives.'), TestCase(test_case_id=4, test_title='Exceptions Configuration', description='Verify that exceptions are configurable for specific users or groups with business justification.', preconditions='Exceptions configuration is enabled.', test_steps='1. Configure exceptions for specific users or groups.\\n2. Verify that the exceptions are applied correctly with business justification.\\n3. Attempt to copy or paste sensitive data with the configured exceptions.\\n4. Verify that the copy or paste action is allowed with the configured exceptions.', test_data='Exceptions configuration (e.g., specific users or groups) and business justification', expected_result='Exceptions are applied correctly with business justification.', comments='Verify that exceptions are configurable for specific users or groups with business justification.'), TestCase(test_case_id=5, test_title='Accuracy and Performance', description='Verify that the DLP policy detects sensitive data with accuracy ≥ 95% and ≤ 3% false positives, and blocks in real-time (< 500ms).', preconditions='Sensitive data is present in the protected application.', test_steps='1. Launch the protected application with sensitive data.\\n2. Attempt to copy the sensitive data.\\n3. Verify that the copy action is blocked or logged with accurate details.\\n4. Measure the time taken to block the copy action.\\n5. Verify that the blocking occurs in real-time (< 500ms).', test_data='Sensitive data (e.g., credit card numbers, PII, source code)', expected_result='Detection accuracy ≥ 95% and ≤ 3% false positives, and blocking occurs in real-time (< 500ms).', comments='Verify that the DLP policy detects sensitive data with accuracy ≥ 95% and ≤ 3% false positives, and blocks in real-time (< 500ms).'), TestCase(test_case_id=6, test_title='Compliance', description='Verify that the DLP policy aligns with organizational data classification and regulations (e.g., GDPR, HIPAA).', preconditions='Sensitive data is present in the protected application.', test_steps='1. Launch the protected application with sensitive data.\\n2. Verify that the DLP policy aligns with organizational data classification and regulations (e.g., GDPR, HIPAA).\\n3. Attempt to copy the sensitive data.\\n4. Verify that the copy action is blocked or logged with accurate details.', test_data='Sensitive data (e.g., credit card numbers, PII, source code) and organizational data classification and regulations (e.g., GDPR, HIPAA)', expected_result='DLP policy aligns with organizational data classification and regulations (e.g., GDPR, HIPAA).', comments='Verify that the DLP policy aligns with organizational data classification and regulations (e.g., GDPR, HIPAA).')]\n"
     ]
    },
    {
     "name": "stderr",
     "output_type": "stream",
     "text": [
      "C:\\Users\\user\\AppData\\Local\\Temp\\ipykernel_10028\\1229044405.py:21: PydanticDeprecatedSince20: The `dict` method is deprecated; use `model_dump` instead. Deprecated in Pydantic V2.0 to be removed in V3.0. See Pydantic V2 Migration Guide at https://errors.pydantic.dev/2.11/migration/\n",
      "  state[\"test_plan\"] = [tc.dict() for tc in resp.test_cases]\n"
     ]
    },
    {
     "data": {
      "text/html": [
       "<div>\n",
       "<style scoped>\n",
       "    .dataframe tbody tr th:only-of-type {\n",
       "        vertical-align: middle;\n",
       "    }\n",
       "\n",
       "    .dataframe tbody tr th {\n",
       "        vertical-align: top;\n",
       "    }\n",
       "\n",
       "    .dataframe thead th {\n",
       "        text-align: right;\n",
       "    }\n",
       "</style>\n",
       "<table border=\"1\" class=\"dataframe\">\n",
       "  <thead>\n",
       "    <tr style=\"text-align: right;\">\n",
       "      <th></th>\n",
       "      <th>test_case_id</th>\n",
       "      <th>test_title</th>\n",
       "      <th>description</th>\n",
       "      <th>preconditions</th>\n",
       "      <th>test_steps</th>\n",
       "      <th>test_data</th>\n",
       "      <th>expected_result</th>\n",
       "      <th>comments</th>\n",
       "    </tr>\n",
       "  </thead>\n",
       "  <tbody>\n",
       "    <tr>\n",
       "      <th>0</th>\n",
       "      <td>1</td>\n",
       "      <td>Copy Sensitive Data from Protected Application</td>\n",
       "      <td>Verify that copying sensitive data from a prot...</td>\n",
       "      <td>Sensitive data is present in the protected app...</td>\n",
       "      <td>1. Launch the protected application with sensi...</td>\n",
       "      <td>Sensitive data (e.g., credit card numbers, PII...</td>\n",
       "      <td>Copy action is blocked or logged with user ID,...</td>\n",
       "      <td>Verify that the copy action is blocked or logg...</td>\n",
       "    </tr>\n",
       "    <tr>\n",
       "      <th>1</th>\n",
       "      <td>2</td>\n",
       "      <td>Paste Sensitive Data into Unauthorized Destina...</td>\n",
       "      <td>Verify that pasting sensitive data into an una...</td>\n",
       "      <td>Sensitive data is present in the clipboard and...</td>\n",
       "      <td>1. Copy sensitive data from a protected applic...</td>\n",
       "      <td>Sensitive data (e.g., credit card numbers, PII...</td>\n",
       "      <td>Paste action is blocked and generates an alert...</td>\n",
       "      <td>Verify that the paste action is blocked and ge...</td>\n",
       "    </tr>\n",
       "    <tr>\n",
       "      <th>2</th>\n",
       "      <td>3</td>\n",
       "      <td>Approved Application Copy/Paste</td>\n",
       "      <td>Verify that approved applications allow copy/p...</td>\n",
       "      <td>Approved application is open with sensitive data.</td>\n",
       "      <td>1. Launch an approved application with sensiti...</td>\n",
       "      <td>Approved application (e.g., internal CRM, tick...</td>\n",
       "      <td>Copy and paste actions are allowed without fal...</td>\n",
       "      <td>Verify that approved applications allow copy/p...</td>\n",
       "    </tr>\n",
       "    <tr>\n",
       "      <th>3</th>\n",
       "      <td>4</td>\n",
       "      <td>Exceptions Configuration</td>\n",
       "      <td>Verify that exceptions are configurable for sp...</td>\n",
       "      <td>Exceptions configuration is enabled.</td>\n",
       "      <td>1. Configure exceptions for specific users or ...</td>\n",
       "      <td>Exceptions configuration (e.g., specific users...</td>\n",
       "      <td>Exceptions are applied correctly with business...</td>\n",
       "      <td>Verify that exceptions are configurable for sp...</td>\n",
       "    </tr>\n",
       "    <tr>\n",
       "      <th>4</th>\n",
       "      <td>5</td>\n",
       "      <td>Accuracy and Performance</td>\n",
       "      <td>Verify that the DLP policy detects sensitive d...</td>\n",
       "      <td>Sensitive data is present in the protected app...</td>\n",
       "      <td>1. Launch the protected application with sensi...</td>\n",
       "      <td>Sensitive data (e.g., credit card numbers, PII...</td>\n",
       "      <td>Detection accuracy ≥ 95% and ≤ 3% false positi...</td>\n",
       "      <td>Verify that the DLP policy detects sensitive d...</td>\n",
       "    </tr>\n",
       "    <tr>\n",
       "      <th>5</th>\n",
       "      <td>6</td>\n",
       "      <td>Compliance</td>\n",
       "      <td>Verify that the DLP policy aligns with organiz...</td>\n",
       "      <td>Sensitive data is present in the protected app...</td>\n",
       "      <td>1. Launch the protected application with sensi...</td>\n",
       "      <td>Sensitive data (e.g., credit card numbers, PII...</td>\n",
       "      <td>DLP policy aligns with organizational data cla...</td>\n",
       "      <td>Verify that the DLP policy aligns with organiz...</td>\n",
       "    </tr>\n",
       "  </tbody>\n",
       "</table>\n",
       "</div>"
      ],
      "text/plain": [
       "   test_case_id                                         test_title  \\\n",
       "0             1     Copy Sensitive Data from Protected Application   \n",
       "1             2  Paste Sensitive Data into Unauthorized Destina...   \n",
       "2             3                    Approved Application Copy/Paste   \n",
       "3             4                           Exceptions Configuration   \n",
       "4             5                           Accuracy and Performance   \n",
       "5             6                                         Compliance   \n",
       "\n",
       "                                         description  \\\n",
       "0  Verify that copying sensitive data from a prot...   \n",
       "1  Verify that pasting sensitive data into an una...   \n",
       "2  Verify that approved applications allow copy/p...   \n",
       "3  Verify that exceptions are configurable for sp...   \n",
       "4  Verify that the DLP policy detects sensitive d...   \n",
       "5  Verify that the DLP policy aligns with organiz...   \n",
       "\n",
       "                                       preconditions  \\\n",
       "0  Sensitive data is present in the protected app...   \n",
       "1  Sensitive data is present in the clipboard and...   \n",
       "2  Approved application is open with sensitive data.   \n",
       "3               Exceptions configuration is enabled.   \n",
       "4  Sensitive data is present in the protected app...   \n",
       "5  Sensitive data is present in the protected app...   \n",
       "\n",
       "                                          test_steps  \\\n",
       "0  1. Launch the protected application with sensi...   \n",
       "1  1. Copy sensitive data from a protected applic...   \n",
       "2  1. Launch an approved application with sensiti...   \n",
       "3  1. Configure exceptions for specific users or ...   \n",
       "4  1. Launch the protected application with sensi...   \n",
       "5  1. Launch the protected application with sensi...   \n",
       "\n",
       "                                           test_data  \\\n",
       "0  Sensitive data (e.g., credit card numbers, PII...   \n",
       "1  Sensitive data (e.g., credit card numbers, PII...   \n",
       "2  Approved application (e.g., internal CRM, tick...   \n",
       "3  Exceptions configuration (e.g., specific users...   \n",
       "4  Sensitive data (e.g., credit card numbers, PII...   \n",
       "5  Sensitive data (e.g., credit card numbers, PII...   \n",
       "\n",
       "                                     expected_result  \\\n",
       "0  Copy action is blocked or logged with user ID,...   \n",
       "1  Paste action is blocked and generates an alert...   \n",
       "2  Copy and paste actions are allowed without fal...   \n",
       "3  Exceptions are applied correctly with business...   \n",
       "4  Detection accuracy ≥ 95% and ≤ 3% false positi...   \n",
       "5  DLP policy aligns with organizational data cla...   \n",
       "\n",
       "                                            comments  \n",
       "0  Verify that the copy action is blocked or logg...  \n",
       "1  Verify that the paste action is blocked and ge...  \n",
       "2  Verify that approved applications allow copy/p...  \n",
       "3  Verify that exceptions are configurable for sp...  \n",
       "4  Verify that the DLP policy detects sensitive d...  \n",
       "5  Verify that the DLP policy aligns with organiz...  "
      ]
     },
     "metadata": {},
     "output_type": "display_data"
    }
   ],
   "source": [
    "result = app.invoke({})\n",
    "\n"
   ]
  }
 ],
 "metadata": {
  "kernelspec": {
   "display_name": "venv",
   "language": "python",
   "name": "python3"
  },
  "language_info": {
   "codemirror_mode": {
    "name": "ipython",
    "version": 3
   },
   "file_extension": ".py",
   "mimetype": "text/x-python",
   "name": "python",
   "nbconvert_exporter": "python",
   "pygments_lexer": "ipython3",
   "version": "3.12.10"
  }
 },
 "nbformat": 4,
 "nbformat_minor": 5
}
